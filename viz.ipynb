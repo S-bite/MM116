{
 "cells": [
  {
   "cell_type": "code",
   "execution_count": 48,
   "metadata": {},
   "outputs": [],
   "source": [
    "%matplotlib inline \n",
    "import pandas as pd\n",
    "import seaborn as sns\n",
    "import matplotlib.pyplot as plt\n",
    "plt.style.use('ggplot')\n",
    "df=pd.read_csv(\"out.csv\")\n",
    ""
   ]
  },
  {
   "cell_type": "code",
   "execution_count": 59,
   "metadata": {
    "tags": [
     "outputPrepend"
    ]
   },
   "outputs": [
    {
     "output_type": "execute_result",
     "data": {
      "text/plain": "[[0, 0, 0, 0, 0, 0, 0, 0, 0, 0, 0],\n [11.042502999999996,\n  8.485648,\n  7.889983999999999,\n  7.675913999999999,\n  7.4795479999999985,\n  7.444755399999998,\n  7.3743125,\n  7.3798406,\n  7.332477300000001,\n  7.330054100000003,\n  7.2904803000000005],\n [29.090804000000006,\n  15.612888000000005,\n  12.18629,\n  10.536899,\n  9.468337999999997,\n  8.969398,\n  8.561169,\n  8.287937000000001,\n  8.121551000000002,\n  7.935677000000002,\n  7.892678000000001],\n [68.88248,\n  30.837640999999998,\n  20.654153,\n  16.406958,\n  13.864231999999998,\n  12.604792000000003,\n  11.763357000000003,\n  10.962355000000002,\n  10.581445999999998,\n  10.169462,\n  9.833529999999998],\n [108.20502199999997,\n  48.026123000000005,\n  33.51112200000001,\n  24.922843,\n  20.695743999999998,\n  18.216736000000004,\n  16.181807000000003,\n  15.185612000000003,\n  13.810639000000002,\n  13.208244000000004,\n  13.022996999999997]]"
     },
     "metadata": {},
     "execution_count": 59
    }
   ],
   "source": [
    "l=[[0 for _ in range(11)] for __ in range(5)]\n",
    "ns=df[\"n\"]\n",
    "ms=df[\"m\"]\n",
    "scores=df[\"score\"]\n",
    "cnt=0\n",
    "for n,m,score in zip(ns,ms,scores):\n",
    "    x=(n-5)//10\n",
    "    if(n==100):\n",
    "        x=10\n",
    "    l[m-1][x]+=score\n",
    "l\n"
   ]
  }
 ],
 "metadata": {
  "kernelspec": {
   "display_name": "Python 3",
   "language": "python",
   "name": "python3"
  },
  "language_info": {
   "codemirror_mode": {
    "name": "ipython",
    "version": 3
   },
   "file_extension": ".py",
   "mimetype": "text/x-python",
   "name": "python",
   "nbconvert_exporter": "python",
   "pygments_lexer": "ipython3",
   "version": "3.7.6-final"
  }
 },
 "nbformat": 4,
 "nbformat_minor": 2
}